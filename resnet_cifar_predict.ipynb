{
 "cells": [
  {
   "cell_type": "code",
   "execution_count": 182,
   "metadata": {},
   "outputs": [],
   "source": [
    "# Copyright 2015 Google Inc. All Rights Reserved.\n",
    "#\n",
    "# Licensed under the Apache License, Version 2.0 (the \"License\");\n",
    "# you may not use this file except in compliance with the License.\n",
    "# You may obtain a copy of the License at\n",
    "#\n",
    "#     http://www.apache.org/licenses/LICENSE-2.0\n",
    "#\n",
    "# Unless required by applicable law or agreed to in writing, software\n",
    "# distributed under the License is distributed on an \"AS IS\" BASIS,\n",
    "# WITHOUT WARRANTIES OR CONDITIONS OF ANY KIND, either express or implied.\n",
    "# See the License for the specific language governing permissions and\n",
    "# limitations under the License.\n",
    "# ==============================================================================\n",
    "\n",
    "\"\"\"A binary to train CIFAR-10 using a single GPU.\n",
    "\n",
    "Accuracy:\n",
    "cifar10_train.py achieves ~86% accuracy after 100K steps (256 epochs of\n",
    "data) as judged by cifar10_eval.py.\n",
    "\n",
    "Speed: With batch_size 128.\n",
    "\n",
    "System        | Step Time (sec/batch)  |     Accuracy\n",
    "------------------------------------------------------------------\n",
    "1 Tesla K20m  | 0.35-0.60              | ~86% at 60K steps  (5 hours)\n",
    "1 Tesla K40m  | 0.25-0.35              | ~86% at 100K steps (4 hours)\n",
    "\n",
    "Usage:\n",
    "Please see the tutorial and website for how to download the CIFAR-10\n",
    "data set, compile the program and train the model.\n",
    "\n",
    "http://tensorflow.org/tutorials/deep_cnn/\n",
    "\"\"\"\n",
    "from __future__ import absolute_import\n",
    "from __future__ import division\n",
    "from __future__ import print_function\n",
    "\n",
    "from datetime import datetime\n",
    "import os.path\n",
    "import time\n",
    "import numpy as np\n",
    "import matplotlib.pylab as plt\n",
    "%matplotlib inline\n",
    "\n",
    "#from cnn_utils import *\n",
    "import tensorflow.python.platform\n",
    "from tensorflow.python.platform import gfile\n",
    "from six.moves import xrange  # pylint: disable=redefined-builtin\n",
    "import tensorflow as tf\n",
    "import resnet_model\n",
    "import resnet_model_official\n",
    "import cifar_input\n",
    "import six\n",
    "#from tensorflow.models.image.cifar10 import cifar10\n",
    "# import cifar10\n"
   ]
  },
  {
   "cell_type": "code",
   "execution_count": 207,
   "metadata": {},
   "outputs": [
    {
     "name": "stdout",
     "output_type": "stream",
     "text": [
      "<class 'tensorflow.python.framework.ops.Tensor'>\n",
      "INFO:tensorflow:Graph was finalized.\n",
      "INFO:tensorflow:Running local_init_op.\n",
      "INFO:tensorflow:Done running local_init_op.\n",
      "<class 'bytes'> b'\\n,/job:localhost/replica:0/task:0/device:CPU:0\\x12\\tlocalhost\\x1a\\x16_16_OneShotIterator_12 \\xee\\xf1\\x9a\\xd0\\xca\\xb5\\xdc\\xe5\\x04*(class tensorflow::data::IteratorResource'\n",
      "train 0\n",
      "val 90\n",
      "train 1\n",
      "train 2\n",
      "train 3\n",
      "val 91\n",
      "train 4\n",
      "train 5\n",
      "train 6\n",
      "val 92\n",
      "train 7\n",
      "train 8\n",
      "train 9\n",
      "val 93\n"
     ]
    }
   ],
   "source": [
    "import tensorflow as tf\n",
    "from tensorflow.data import Dataset, Iterator\n",
    "\n",
    "dataset_train = Dataset.range(10)\n",
    "dataset_val = Dataset.range(90, 100)\n",
    "\n",
    "iter_train_handle = dataset_train.make_one_shot_iterator().string_handle()\n",
    "iter_val_handle = dataset_val.make_one_shot_iterator().string_handle()\n",
    "# iter_train_handle\n",
    "print(type(iter_train_handle))\n",
    "handle = tf.placeholder(tf.string, shape=[],name='dh')\n",
    "iterator = Iterator.from_string_handle(\n",
    "    handle, dataset_train.output_types, dataset_train.output_shapes)\n",
    "next_batch = iterator.get_next()\n",
    "\n",
    "with tf.train.MonitoredTrainingSession() as sess:\n",
    "#     print(dir(sess))\n",
    "    handle_train, handle_val = sess.run([iter_train_handle, iter_val_handle])\n",
    "    print(type(handle_train),handle_train)\n",
    "\n",
    "    for step in range(10):\n",
    "        print('train', sess.run(next_batch, feed_dict={handle: handle_train}))\n",
    "\n",
    "        if step % 3 == 0:\n",
    "            print('val', sess.run(next_batch, feed_dict={handle: handle_val}))"
   ]
  },
  {
   "cell_type": "code",
   "execution_count": 205,
   "metadata": {},
   "outputs": [
    {
     "name": "stdout",
     "output_type": "stream",
     "text": [
      "<class 'bytes'>\n",
      "<dtype: 'string'>\n",
      "\n",
      "['OVERLOADABLE_OPERATORS', '__abs__', '__add__', '__and__', '__array_priority__', '__bool__', '__class__', '__copy__', '__delattr__', '__dict__', '__dir__', '__div__', '__doc__', '__eq__', '__floordiv__', '__format__', '__ge__', '__getattribute__', '__getitem__', '__gt__', '__hash__', '__init__', '__init_subclass__', '__invert__', '__iter__', '__le__', '__lt__', '__matmul__', '__mod__', '__module__', '__mul__', '__ne__', '__neg__', '__new__', '__nonzero__', '__or__', '__pow__', '__radd__', '__rand__', '__rdiv__', '__reduce__', '__reduce_ex__', '__repr__', '__rfloordiv__', '__rmatmul__', '__rmod__', '__rmul__', '__ror__', '__rpow__', '__rsub__', '__rtruediv__', '__rxor__', '__setattr__', '__sizeof__', '__str__', '__sub__', '__subclasshook__', '__truediv__', '__weakref__', '__xor__', '_as_node_def_input', '_as_tf_output', '_c_api_shape', '_consumers', '_dtype', '_get_input_ops_without_shapes', '_id', '_op', '_override_operator', '_rank', '_shape', '_shape_as_list', '_shape_tuple', '_shape_val', '_tf_api_names', '_tf_api_names_v1', '_value_index', 'consumers', 'device', 'dtype', 'eval', 'get_shape', 'graph', 'name', 'op', 'set_shape', 'shape', 'value_index']\n",
      "b'\\n)/job:worker/replica:0/task:0/device:CPU:0\\x12\\x06worker\\x1a\\x12_0_OneShotIterator \\x88\\xca\\x87\\xfe\\xca\\xce\\x8d\\xf5:*%N10tensorflow4data16IteratorResourceE'\n",
      "<class 'bytes'>\n"
     ]
    }
   ],
   "source": [
    "handle = b'\\n)/job:worker/replica:0/task:0/device:CPU:0\\x12\\x06worker\\x1a\\x12_0_OneShotIterator \\x88\\xca\\x87\\xfe\\xca\\xce\\x8d\\xf5:*%N10tensorflow4data16IteratorResourceE'\n",
    "print(type(handle))\n",
    "# print(type(str(handle,'utf-8')))\n",
    "# print(tf.compat.as_str_any(handle))\n",
    "handle_str = tf.constant(handle,dtype=tf.string)\n",
    "print(handle_str.dtype)\n",
    "print(handle_str.device)\n",
    "print(dir(handle_str))\n",
    "with tf.Session() as sess:\n",
    "    print(sess.run(handle_str))\n",
    "    print(type(sess.run(handle_str)))"
   ]
  },
  {
   "cell_type": "code",
   "execution_count": 2,
   "metadata": {},
   "outputs": [
    {
     "data": {
      "text/plain": [
       "'D:\\\\wangfeicheng\\\\Tensorflow\\\\docker-multiple\\\\ResNet\\\\resnet50-cifar-ckpt-20190218'"
      ]
     },
     "execution_count": 2,
     "metadata": {},
     "output_type": "execute_result"
    }
   ],
   "source": [
    "train_dir=r'D:\\wangfeicheng\\Tensorflow\\docker-multiple\\ResNet\\resnet50-cifar-ckpt-20190218\\\\'\n",
    "os.path.dirname(train_dir)"
   ]
  },
  {
   "cell_type": "code",
   "execution_count": 180,
   "metadata": {},
   "outputs": [
    {
     "data": {
      "text/plain": [
       "tensorflow.python.ops.variables.RefVariable"
      ]
     },
     "execution_count": 180,
     "metadata": {},
     "output_type": "execute_result"
    }
   ],
   "source": [
    "tf.reset_default_graph()\n",
    "global_step = tf.train.create_global_step()\n",
    "type(global_step)"
   ]
  },
  {
   "cell_type": "code",
   "execution_count": 181,
   "metadata": {},
   "outputs": [
    {
     "name": "stdout",
     "output_type": "stream",
     "text": [
      "1\n",
      "2\n",
      "3\n",
      "4\n",
      "5\n",
      "6\n",
      "7\n",
      "8\n",
      "9\n",
      "10\n"
     ]
    }
   ],
   "source": [
    "with tf.Session() as sess:\n",
    "#     init = tf.global_variables_initializer()\n",
    "    \n",
    "    sess.run(global_step.initializer)\n",
    "    for i in range(10):\n",
    "        global_step= global_step+1\n",
    "        step = sess.run(global_step)\n",
    "        print(step)"
   ]
  },
  {
   "cell_type": "code",
   "execution_count": 179,
   "metadata": {},
   "outputs": [
    {
     "name": "stdout",
     "output_type": "stream",
     "text": [
      "()\n",
      "1\n",
      "2\n",
      "3\n",
      "4\n",
      "5\n",
      "6\n",
      "7\n",
      "8\n",
      "9\n",
      "10\n"
     ]
    }
   ],
   "source": [
    "tf.reset_default_graph()\n",
    "global_step = tf.get_variable('global_step',dtype=tf.int32,initializer=0)\n",
    "print(global_step.shape)\n",
    "with tf.Session() as sess:\n",
    "    sess.run(global_step.initializer)\n",
    "    for i in range(10):\n",
    "        global_step= global_step+1\n",
    "        step = sess.run(global_step)\n",
    "        print(step)"
   ]
  },
  {
   "cell_type": "code",
   "execution_count": 3,
   "metadata": {},
   "outputs": [],
   "source": [
    "FLAGS = tf.app.flags.FLAGS\n",
    "tf.app.flags.DEFINE_string('dataset', 'cifar10', 'cifar10 or cifar100.')\n",
    "tf.app.flags.DEFINE_string('mode', 'eval', 'train or eval.')\n",
    "# tf.app.flags.DEFINE_string('train_dir', 'cifar10_train/',\n",
    "#                            \"\"\"Directory where to write event logs \"\"\"\n",
    "#                            \"\"\"and checkpoint.\"\"\")\n",
    "# tf.app.flags.DEFINE_integer('max_steps', 20000,\n",
    "#                             \"\"\"Number of batches to run.\"\"\")\n",
    "# tf.app.flags.DEFINE_boolean('log_device_placement', False,\n",
    "#                             \"\"\"Whether to log device placement.\"\"\")"
   ]
  },
  {
   "cell_type": "code",
   "execution_count": 4,
   "metadata": {},
   "outputs": [
    {
     "name": "stdout",
     "output_type": "stream",
     "text": [
      "(10000, 3073)\n"
     ]
    }
   ],
   "source": [
    "import pickle\n",
    "import os\n",
    "eval_data_dir = r'D:\\wangfeicheng\\Tensorflow\\cifar10-tensorflow\\cifar-10-binary\\cifar-10-batches-bin\\test_batch.bin'\n",
    "# Dimensions of the images in the CIFAR-10 dataset.\n",
    "# See http://www.cs.toronto.edu/~kriz/cifar.html for a description of the\n",
    "# input format.\n",
    "'''\n",
    "The CIFAR-10 dataset consists of 60000 32x32 colour images in 10 classes, with 6000 images per class. \n",
    "There are 50000 training images and 10000 test images. \n",
    "\n",
    "The dataset is divided into five training batches and one test batch, each with 10000 images. \n",
    "The test batch contains exactly 1000 randomly-selected images from each class. \n",
    "The training batches contain the remaining images in random order, but some training batches may contain more images from one class \n",
    "than another. Between them, the training batches contain exactly 5000 images from each class. \n",
    "'''\n",
    "\n",
    "label_bytes = 1  # 2 for CIFAR-100\n",
    "height = 32\n",
    "width = 32\n",
    "depth = 3\n",
    "TRAIN_NUM = 10000\n",
    "image_bytes = height * width * depth+1\n",
    "batch_bytes = TRAIN_NUM*image_bytes\n",
    "# Every record consists of a label followed by the image, with a\n",
    "# fixed number of bytes for each.\n",
    "record_bytes = label_bytes + image_bytes\n",
    "\n",
    "\n",
    "with open(eval_data_dir,'rb') as file:\n",
    "    byte_stream = file.read(batch_bytes)\n",
    "    data = np.frombuffer(byte_stream,dtype =np.uint8).reshape((TRAIN_NUM,image_bytes))\n",
    "    print(data.shape)\n",
    "    image = data[:,1:].reshape((TRAIN_NUM,depth,height,width)).transpose((0,2,3,1))\n",
    "    label = data[:,0]\n",
    "    \n",
    "label_names = ['airplane','automobile','bird','cat','deer','dog','frog','horse','ship','truck']\n",
    "label_dict = {}\n",
    "for key,value in enumerate(label_names):\n",
    "#     print(key,value)\n",
    "    label_dict[key] =value\n",
    "# label_dict"
   ]
  },
  {
   "cell_type": "code",
   "execution_count": 30,
   "metadata": {},
   "outputs": [
    {
     "name": "stdout",
     "output_type": "stream",
     "text": [
      "[  3 158 159 ... 124 129 110]\n",
      "(10000, 32, 32, 3)\n",
      "(10000,)\n",
      "The image of 1 is 8:ship\n"
     ]
    },
    {
     "data": {
      "image/png": "[encoded data removed]",
      "text/plain": [
       "<Figure size 432x288 with 1 Axes>"
      ]
     },
     "metadata": {
      "needs_background": "light"
     },
     "output_type": "display_data"
    }
   ],
   "source": [
    "index = 1 \n",
    "print(data[0,:])\n",
    "print(image.shape)\n",
    "print(label.shape)\n",
    "plt.imshow(image[index])\n",
    "\n",
    "print('The image of {0} is {1}:{2}'.format(index,label[index],label_dict[label[index]]))"
   ]
  },
  {
   "cell_type": "code",
   "execution_count": 53,
   "metadata": {},
   "outputs": [
    {
     "name": "stdout",
     "output_type": "stream",
     "text": [
      "(100, 32, 32, 3)\n"
     ]
    }
   ],
   "source": [
    "image_ls = []\n",
    "for index in range(0,100):\n",
    "    image_pre = tf.image.per_image_standardization(image[index])\n",
    "#     tf.append()\n",
    "    image_ls.append(image_pre)\n",
    "    image_tensor = tf.convert_to_tensor(image_ls)\n",
    "    #print(type(image_pre)) \n",
    "with tf.Session() as sess:\n",
    "    image_value = image_tensor.eval()\n",
    "    print(image_value[:,:,:].shape)\n",
    "#     print(np.mean(image_pre_np[:,:,:]))\n",
    "#     print(np.std(image_pre_np))\n",
    "#     print(image_pre_np)"
   ]
  },
  {
   "cell_type": "code",
   "execution_count": 94,
   "metadata": {},
   "outputs": [
    {
     "name": "stdout",
     "output_type": "stream",
     "text": [
      "(100, 32, 32, 3)\n"
     ]
    },
    {
     "ename": "ValueError",
     "evalue": "operands could not be broadcast together with shapes (100,32,32,3) (100,1) ",
     "traceback": [
      "\u001b[1;31m---------------------------------------------------------------------------\u001b[0m",
      "\u001b[1;31mValueError\u001b[0m                                Traceback (most recent call last)",
      "\u001b[1;32m<ipython-input-94-f14ed74518a7>\u001b[0m in \u001b[0;36m<module>\u001b[1;34m\u001b[0m\n\u001b[0;32m      8\u001b[0m \u001b[0mstd\u001b[0m \u001b[1;33m=\u001b[0m \u001b[0mimage_eval\u001b[0m\u001b[1;33m.\u001b[0m\u001b[0mreshape\u001b[0m\u001b[1;33m(\u001b[0m\u001b[1;33m(\u001b[0m\u001b[1;36m100\u001b[0m\u001b[1;33m,\u001b[0m\u001b[1;33m-\u001b[0m\u001b[1;36m1\u001b[0m\u001b[1;33m)\u001b[0m\u001b[1;33m)\u001b[0m\u001b[1;33m.\u001b[0m\u001b[0mstd\u001b[0m\u001b[1;33m(\u001b[0m\u001b[0maxis\u001b[0m\u001b[1;33m=\u001b[0m\u001b[1;36m1\u001b[0m\u001b[1;33m)\u001b[0m\u001b[1;33m\u001b[0m\u001b[1;33m\u001b[0m\u001b[0m\n\u001b[0;32m      9\u001b[0m \u001b[0mmean_exp\u001b[0m \u001b[1;33m=\u001b[0m \u001b[0mnp\u001b[0m\u001b[1;33m.\u001b[0m\u001b[0mexpand_dims\u001b[0m\u001b[1;33m(\u001b[0m\u001b[0mmean\u001b[0m\u001b[1;33m,\u001b[0m\u001b[0maxis\u001b[0m\u001b[1;33m=\u001b[0m\u001b[1;36m1\u001b[0m\u001b[1;33m)\u001b[0m\u001b[1;33m\u001b[0m\u001b[1;33m\u001b[0m\u001b[0m\n\u001b[1;32m---> 10\u001b[1;33m \u001b[1;33m(\u001b[0m\u001b[0mimage_eval\u001b[0m\u001b[1;33m-\u001b[0m\u001b[0mmean_exp\u001b[0m\u001b[1;33m)\u001b[0m\u001b[1;33m\u001b[0m\u001b[1;33m\u001b[0m\u001b[0m\n\u001b[0m",
      "\u001b[1;31mValueError\u001b[0m: operands could not be broadcast together with shapes (100,32,32,3) (100,1) "
     ],
     "output_type": "error"
    }
   ],
   "source": [
    "import pandas as pd\n",
    "image_eval = image[0:100]\n",
    "print(image_eval.shape)\n",
    "# image_eval.std(axis=0).shape\n",
    "# np.mean(image_eval,axis=0).shape\n",
    "# np.apply_along_axis(np.mean,0,image_eval).shape\n",
    "mean = image_eval.reshape((100,-1)).mean(axis=1)\n",
    "std = image_eval.reshape((100,-1)).std(axis=1)\n",
    "mean_exp = np.expand_dims(mean,axis=1)\n",
    "(image_eval-mean_exp)"
   ]
  },
  {
   "cell_type": "code",
   "execution_count": 109,
   "metadata": {},
   "outputs": [
    {
     "name": "stdout",
     "output_type": "stream",
     "text": [
      "[[[ 0  1  2  3]\n",
      "  [ 4  5  6  7]\n",
      "  [ 8  9 10 11]]\n",
      "\n",
      " [[12 13 14 15]\n",
      "  [16 17 18 19]\n",
      "  [20 21 22 23]]]\n"
     ]
    },
    {
     "data": {
      "text/plain": [
       "array([[-5.5, -4.5, -3.5, -2.5, -1.5, -0.5,  0.5,  1.5,  2.5,  3.5,  4.5,\n",
       "         5.5],\n",
       "       [-5.5, -4.5, -3.5, -2.5, -1.5, -0.5,  0.5,  1.5,  2.5,  3.5,  4.5,\n",
       "         5.5]])"
      ]
     },
     "execution_count": 109,
     "metadata": {},
     "output_type": "execute_result"
    }
   ],
   "source": [
    "a = np.arange(24).reshape((2,3,4))\n",
    "print(a)\n",
    "mean = np.expand_dims(a.reshape((2,-1)).mean(axis=1),axis=1)\n",
    "# print(a[0].mean())\n",
    "a.reshape((2,-1))-mean"
   ]
  },
  {
   "cell_type": "code",
   "execution_count": 112,
   "metadata": {},
   "outputs": [
    {
     "name": "stdout",
     "output_type": "stream",
     "text": [
      "[[1. 1. 1.]\n",
      " [1. 1. 1.]] [0 1 2]\n"
     ]
    },
    {
     "data": {
      "text/plain": [
       "array([[1., 2., 3.],\n",
       "       [1., 2., 3.]])"
      ]
     },
     "execution_count": 112,
     "metadata": {},
     "output_type": "execute_result"
    }
   ],
   "source": [
    "M = np.ones((2, 3))\n",
    "a = np.arange(3)\n",
    "print(M,a)\n",
    "M+a"
   ]
  },
  {
   "cell_type": "code",
   "execution_count": 111,
   "metadata": {},
   "outputs": [
    {
     "data": {
      "text/plain": [
       "array([[1., 2., 3.],\n",
       "       [1., 2., 3.]])"
      ]
     },
     "execution_count": 111,
     "metadata": {},
     "output_type": "execute_result"
    }
   ],
   "source": [
    "a+M"
   ]
  },
  {
   "cell_type": "code",
   "execution_count": 29,
   "metadata": {},
   "outputs": [
    {
     "data": {
      "text/plain": [
       "(10000, 10)"
      ]
     },
     "execution_count": 29,
     "metadata": {},
     "output_type": "execute_result"
    }
   ],
   "source": [
    "np.eye(10)[label].shape"
   ]
  },
  {
   "cell_type": "code",
   "execution_count": 21,
   "metadata": {},
   "outputs": [
    {
     "name": "stdout",
     "output_type": "stream",
     "text": [
      "<class 'numpy.ndarray'> (10000, 32, 32, 3) uint8\n",
      "<class 'tensorflow.python.framework.ops.Tensor'> (10000, 10)\n"
     ]
    }
   ],
   "source": [
    "# Y_one_hot = tf.one_hot(label,10)\n",
    "Y_test = tf.one_hot(label,10)\n",
    "\n",
    "X_test = image\n",
    "\n",
    "print(type(X_test),X_test.shape,X_test.dtype)\n",
    "print(type(Y_test),Y_test.shape)\n",
    "# X_test[index]"
   ]
  },
  {
   "cell_type": "code",
   "execution_count": 7,
   "metadata": {},
   "outputs": [
    {
     "name": "stdout",
     "output_type": "stream",
     "text": [
      "<class 'tensorflow.python.framework.ops.Tensor'> (10000, 32, 32, 3) <dtype: 'float32'>\n",
      "<class 'tensorflow.python.framework.ops.Tensor'> (10000, 10) <dtype: 'int32'>\n"
     ]
    }
   ],
   "source": [
    "#change the numpy ndarray into tensor\n",
    "images_test = tf.cast(tf.convert_to_tensor(X_test),tf.float32)\n",
    "labels_test = tf.cast(tf.convert_to_tensor(Y_test),tf.int32)\n",
    "\n",
    "print(type(images_test),images_test.shape,images_test.dtype)\n",
    "print(type(labels_test),labels_test.shape,labels_test.dtype)"
   ]
  },
  {
   "cell_type": "code",
   "execution_count": 10,
   "metadata": {},
   "outputs": [
    {
     "name": "stdout",
     "output_type": "stream",
     "text": [
      "<tensorflow.python.framework.ops.Graph object at 0x0000000010254860>\n"
     ]
    }
   ],
   "source": [
    "# tf.InteractiveSession()\n",
    "# pic=images_test.eval()\n",
    "# print(type(pic),pic.shape,pic.dtype)\n",
    "print(images_test.graph)"
   ]
  },
  {
   "cell_type": "code",
   "execution_count": 11,
   "metadata": {},
   "outputs": [],
   "source": [
    "class ResNet(object):\n",
    "    \"\"\"ResNet model.\"\"\"\n",
    "    def __init__(self, hps, images, labels, mode):\n",
    "        '''\n",
    "        ResNet constructor.\n",
    "        Args:\n",
    "          hps: Hyperparameters.\n",
    "          images: Batches of images. [batch_size, image_size, image_size, 3]\n",
    "          labels: Batches of labels. [batch_size, num_classes]\n",
    "          mode: One of 'train' and 'eval'.\n",
    "        '''\n",
    "        self.hps = hps\n",
    "        self._images = images\n",
    "        self.labels = labels\n",
    "        self.mode = mode\n",
    "\n",
    "        self._extra_train_ops = []\n",
    "\n",
    "    def build_graph(self, istrain = True):\n",
    "        \"\"\"Build a whole graph for the model.\"\"\"\n",
    "        self.global_step = tf.train.get_or_create_global_step()\n",
    "        self._build_model(istrain)\n",
    "        if self.mode == 'train':\n",
    "            self._build_train_op()\n",
    "        self.summaries = tf.summary.merge_all()\n",
    "\n",
    "    def _build_model(self, istrain):\n",
    "        \"\"\"Build the core model within the graph.\"\"\"\n",
    "        if dataset == 'cifar10':\n",
    "            network = resnet_model_official.cifar10_resnet_v2_generator(resnet_size=50, num_classes = self.hps.num_classes, data_format=data_format)\n",
    "        elif dataset == 'imagenet':\n",
    "            network = resnet_model_official.imagenet_resnet_v2(resnet_size = 50, num_classes = self.hps.num_classes, data_format=data_format)\n",
    "            \n",
    "        \n",
    "        logits = network(self._images, istrain)\n",
    "        self.predictions = tf.nn.softmax(logits)\n",
    "        cross_entropy = tf.losses.softmax_cross_entropy(\n",
    "              logits=logits, onehot_labels=self.labels\n",
    "        )\n",
    "        tf.identity(cross_entropy, name='cross_entropy')\n",
    "        tf.summary.scalar('cross_entropy', cross_entropy)\n",
    "\n",
    "        # Add weight decay to the loss.\n",
    "        self.cost = cross_entropy +self.hps.weight_decay_rate * tf.add_n(\n",
    "          [tf.nn.l2_loss(v) for v in tf.trainable_variables()])\n",
    "\n",
    "        tf.summary.scalar('cost', self.cost)"
   ]
  },
  {
   "cell_type": "code",
   "execution_count": 12,
   "metadata": {},
   "outputs": [
    {
     "name": "stdout",
     "output_type": "stream",
     "text": [
      "WARNING:tensorflow:From D:\\wangfeicheng\\Tensorflow\\docker-multiple\\ResNet\\cifar_input.py:52: string_input_producer (from tensorflow.python.training.input) is deprecated and will be removed in a future version.\n",
      "Instructions for updating:\n",
      "Queue-based input pipelines have been replaced by `tf.data`. Use `tf.data.Dataset.from_tensor_slices(string_tensor).shuffle(tf.shape(input_tensor, out_type=tf.int64)[0]).repeat(num_epochs)`. If `shuffle=False`, omit the `.shuffle(...)`.\n",
      "WARNING:tensorflow:From C:\\ProgramData\\Anaconda3\\lib\\site-packages\\tensorflow\\python\\training\\input.py:276: input_producer (from tensorflow.python.training.input) is deprecated and will be removed in a future version.\n",
      "Instructions for updating:\n",
      "Queue-based input pipelines have been replaced by `tf.data`. Use `tf.data.Dataset.from_tensor_slices(input_tensor).shuffle(tf.shape(input_tensor, out_type=tf.int64)[0]).repeat(num_epochs)`. If `shuffle=False`, omit the `.shuffle(...)`.\n",
      "WARNING:tensorflow:From C:\\ProgramData\\Anaconda3\\lib\\site-packages\\tensorflow\\python\\training\\input.py:188: limit_epochs (from tensorflow.python.training.input) is deprecated and will be removed in a future version.\n",
      "Instructions for updating:\n",
      "Queue-based input pipelines have been replaced by `tf.data`. Use `tf.data.Dataset.from_tensors(tensor).repeat(num_epochs)`.\n",
      "WARNING:tensorflow:From C:\\ProgramData\\Anaconda3\\lib\\site-packages\\tensorflow\\python\\training\\input.py:197: QueueRunner.__init__ (from tensorflow.python.training.queue_runner_impl) is deprecated and will be removed in a future version.\n",
      "Instructions for updating:\n",
      "To construct input pipelines, use the `tf.data` module.\n",
      "WARNING:tensorflow:From C:\\ProgramData\\Anaconda3\\lib\\site-packages\\tensorflow\\python\\training\\input.py:197: add_queue_runner (from tensorflow.python.training.queue_runner_impl) is deprecated and will be removed in a future version.\n",
      "Instructions for updating:\n",
      "To construct input pipelines, use the `tf.data` module.\n",
      "WARNING:tensorflow:From D:\\wangfeicheng\\Tensorflow\\docker-multiple\\ResNet\\cifar_input.py:54: FixedLengthRecordReader.__init__ (from tensorflow.python.ops.io_ops) is deprecated and will be removed in a future version.\n",
      "Instructions for updating:\n",
      "Queue-based input pipelines have been replaced by `tf.data`. Use `tf.data.FixedLengthRecordDataset`.\n",
      "WARNING:tensorflow:From D:\\wangfeicheng\\Tensorflow\\docker-multiple\\ResNet\\cifar_input.py:104: sparse_to_dense (from tensorflow.python.ops.sparse_ops) is deprecated and will be removed in a future version.\n",
      "Instructions for updating:\n",
      "Create a `tf.sparse.SparseTensor` and use `tf.sparse.to_dense` instead.\n"
     ]
    }
   ],
   "source": [
    "mode=\"eval\"\n",
    "dataset='cifar10'\n",
    "num_classes = 10\n",
    "data_format='channels_last'\n",
    "batch_size = 10\n",
    "hps = resnet_model.HParams(num_classes=num_classes,\n",
    "                         lrn_rate=0.1,\n",
    "                         weight_decay_rate=0.0002,\n",
    "                         optimizer='mom')\n",
    "\n",
    "\n",
    "images, labels = cifar_input.build_input(dataset, eval_data_dir, batch_size, mode)\n",
    "model = ResNet(hps, images, labels, mode)\n",
    "# model = ResNet(hps, images_test, labels_test, mode)\n",
    "model.build_graph(istrain=False)\n"
   ]
  },
  {
   "cell_type": "code",
   "execution_count": 13,
   "metadata": {},
   "outputs": [
    {
     "name": "stdout",
     "output_type": "stream",
     "text": [
      "<class 'tensorflow.python.framework.ops.Tensor'> (10, 32, 32, 3)\n",
      "<class 'tensorflow.python.framework.ops.Tensor'>\n",
      "<tensorflow.python.framework.ops.Graph object at 0x0000000010254860>\n"
     ]
    }
   ],
   "source": [
    "print(type(images),images.shape)\n",
    "print(type(labels))\n",
    "print(images.graph)"
   ]
  },
  {
   "cell_type": "code",
   "execution_count": 14,
   "metadata": {},
   "outputs": [],
   "source": [
    "def create_config_proto():\n",
    "    \"\"\"Returns session config proto.\n",
    "    Args:\n",
    "    params: Params tuple, typically created by make_params or\n",
    "            make_params_from_flags.\n",
    "    \"\"\"\n",
    "    config = tf.ConfigProto()\n",
    "    config.allow_soft_placement = True\n",
    "    return config"
   ]
  },
  {
   "cell_type": "code",
   "execution_count": 144,
   "metadata": {},
   "outputs": [
    {
     "name": "stdout",
     "output_type": "stream",
     "text": [
      "<class 'str'>\n",
      "<class 'str'>\n",
      "<class 'tensorflow.python.training.checkpoint_state_pb2.CheckpointState'>\n"
     ]
    },
    {
     "data": {
      "text/plain": [
       "'/Tensorflow/docker-multiple/ResNet/resnet50-cifar-ckpt/model.ckpt-107738'"
      ]
     },
     "execution_count": 144,
     "metadata": {},
     "output_type": "execute_result"
    }
   ],
   "source": [
    "import os\n",
    "# train_dir='D:\\\\wangfeicheng\\\\Tensorflow\\\\docker-multiple\\\\ResNet\\\\resnet50-cifar-ckpt-20190218\\\\'\n",
    "train_dir = r'D:\\wangfeicheng\\Tensorflow\\docker-multiple\\ResNet\\resnet50-cifar-ckpt-20190218'\n",
    "# print(type(train_dir))\n",
    "# train_path = os.path.dirname(train_dir)\n",
    "# print(type(train_path))\n",
    "ckpt_state = tf.train.get_checkpoint_state(train_dir)\n",
    "print(type(ckpt_state))\n",
    "#dir(ckpt_state)\n",
    "ckpt_state.model_checkpoint_path"
   ]
  },
  {
   "cell_type": "code",
   "execution_count": 148,
   "metadata": {},
   "outputs": [
    {
     "name": "stdout",
     "output_type": "stream",
     "text": [
      "I am michael\n"
     ]
    }
   ],
   "source": [
    "print('I am %s' %'michael')"
   ]
  },
  {
   "cell_type": "code",
   "execution_count": null,
   "metadata": {},
   "outputs": [
    {
     "name": "stdout",
     "output_type": "stream",
     "text": [
      "WARNING:tensorflow:From <ipython-input-15-80f512e16167>:7: start_queue_runners (from tensorflow.python.training.queue_runner_impl) is deprecated and will be removed in a future version.\n",
      "Instructions for updating:\n",
      "To construct input pipelines, use the `tf.data` module.\n",
      "INFO:tensorflow:Loading checkpoint /Tensorflow/docker-multiple/ResNet/resnet50-cifar-ckpt/model.ckpt-107738\n"
     ]
    }
   ],
   "source": [
    "train_dir=r'D:\\wangfeicheng\\Tensorflow\\docker-multiple\\ResNet\\resnet50-cifar-ckpt-20190218\\\\'\n",
    "eval_dir='D:\\wangfeicheng\\Tensorflow\\docker-multiple\\ResNet\\resnet50-cifar-eval\\\\'\n",
    "saver = tf.train.Saver()\n",
    "# summary_writer = tf.summary.FileWriter(eval_dir)\n",
    "\n",
    "sess = tf.Session(config=create_config_proto())\n",
    "tf.train.start_queue_runners(sess)\n",
    "\n",
    "best_precision = 0.0\n",
    "\n",
    "\n",
    "try:\n",
    "    ckpt_state = tf.train.get_checkpoint_state(train_dir)\n",
    "except tf.errors.OutOfRangeError as e:\n",
    "    tf.logging.error('Cannot restore checkpoint: %s', e)\n",
    "if not (ckpt_state and ckpt_state.model_checkpoint_path):\n",
    "    tf.logging.info('No model to eval yet at %s', train_dir)\n",
    "tf.logging.info('Loading checkpoint %s', ckpt_state.model_checkpoint_path)\n",
    "saver.restore(sess, ckpt_state.model_checkpoint_path)"
   ]
  },
  {
   "cell_type": "code",
   "execution_count": 15,
   "metadata": {},
   "outputs": [
    {
     "name": "stdout",
     "output_type": "stream",
     "text": [
      "<tensorflow.python.framework.ops.Graph object at 0x0000000010254860>\n",
      "ERROR! Session/line number was not unique in database. History logging moved to new session 23\n"
     ]
    }
   ],
   "source": [
    "print(model.cost.graph)"
   ]
  },
  {
   "cell_type": "code",
   "execution_count": null,
   "metadata": {},
   "outputs": [],
   "source": [
    "eval_batch_count=10\n",
    "for _ in six.moves.range(eval_batch_count):\n",
    "    (summaries, loss, predictions, truth, train_step) = sess.run(\n",
    "      [model.summaries, model.cost, model.predictions,model.labels, model.global_step])\n",
    "\n",
    "    truth = np.argmax(truth, axis=1)\n",
    "    predictions = np.argmax(predictions, axis=1)\n",
    "    print('The truth:{}, and the prediction:{1}'.format(truth,predictions))"
   ]
  },
  {
   "cell_type": "code",
   "execution_count": null,
   "metadata": {},
   "outputs": [],
   "source": [
    "# plot the cost\n",
    "plt.plot(np.squeeze(costs))\n",
    "plt.ylabel('cost')\n",
    "plt.xlabel('iterations (per tens)')\n",
    "plt.title(\"Learning rate =\" + str(learning_rate))\n",
    "plt.show()\n",
    "\n",
    "# Calculate the correct predictions\n",
    "predict_op = tf.argmax(Z3, 1)\n",
    "correct_prediction = tf.equal(predict_op, tf.argmax(Y, 1))\n",
    "\n",
    "# Calculate accuracy on the test set\n",
    "accuracy = tf.reduce_mean(tf.cast(correct_prediction, \"float\"))\n",
    "print(accuracy)\n",
    "train_accuracy = accuracy.eval({X: X_train, Y: Y_train})\n",
    "test_accuracy = accuracy.eval({X: X_test, Y: Y_test})\n",
    "print(\"Train Accuracy:\", train_accuracy)\n",
    "print(\"Test Accuracy:\", test_accuracy)"
   ]
  },
  {
   "cell_type": "code",
   "execution_count": null,
   "metadata": {},
   "outputs": [],
   "source": []
  },
  {
   "cell_type": "code",
   "execution_count": null,
   "metadata": {},
   "outputs": [],
   "source": [
    "def train():\n",
    "  \"\"\"Train CIFAR-10 for a number of steps.\"\"\"\n",
    "  with tf.Graph().as_default():\n",
    "    global_step = tf.Variable(0, trainable=False)\n",
    "\n",
    "    # Get images and labels for CIFAR-10.\n",
    "    images, labels = cifar10.distorted_inputs()\n",
    "\n",
    "    # Build a Graph that computes the logits predictions from the\n",
    "    # inference model.\n",
    "    logits = cifar10.inference(images)\n",
    "\n",
    "    # Calculate loss.\n",
    "    loss = cifar10.loss(logits, labels)\n",
    "\n",
    "    # Build a Graph that trains the model with one batch of examples and\n",
    "    # updates the model parameters.\n",
    "    train_op = cifar10.train(loss, global_step)\n",
    "\n",
    "    # Create a saver.\n",
    "    saver = tf.train.Saver(tf.all_variables())\n",
    "\n",
    "    # Build the summary operation based on the TF collection of Summaries.\n",
    "    summary_op = tf.summary.merge_all()\n",
    "\n",
    "    # Build an initialization operation to run below.\n",
    "    init = tf.initialize_all_variables()\n",
    "\n",
    "    # Start running operations on the Graph.\n",
    "    sess = tf.Session(config=tf.ConfigProto(\n",
    "        log_device_placement=FLAGS.log_device_placement))\n",
    "    sess.run(init)\n",
    "\n",
    "    # Start the queue runners.\n",
    "    tf.train.start_queue_runners(sess=sess)\n",
    "\n",
    "#     summary_writer = tf.train.SummaryWriter(FLAGS.train_dir,\n",
    "#                                             graph_def=sess.graph_def)\n",
    "    summary_writer = tf.summary.FileWriter(FLAGS.train_dir,graph_def=sess.graph_def)\n",
    "\n",
    "    for step in xrange(FLAGS.max_steps):\n",
    "      start_time = time.time()\n",
    "      _, loss_value = sess.run([train_op, loss])\n",
    "      duration = time.time() - start_time\n",
    "\n",
    "      assert not np.isnan(loss_value), 'Model diverged with loss = NaN'\n",
    "\n",
    "      if step % 10 == 0:\n",
    "        num_examples_per_step = FLAGS.batch_size\n",
    "        examples_per_sec = num_examples_per_step / duration\n",
    "        sec_per_batch = float(duration)\n",
    "\n",
    "        format_str = ('%s: step %d, loss = %.2f (%.1f examples/sec; %.3f '\n",
    "                      'sec/batch)')\n",
    "        print (format_str % (datetime.now(), step, loss_value,\n",
    "                             examples_per_sec, sec_per_batch))\n",
    "\n",
    "      if step % 100 == 0:\n",
    "        summary_str = sess.run(summary_op)\n",
    "        summary_writer.add_summary(summary_str, step)\n",
    "\n",
    "      # Save the model checkpoint periodically.\n",
    "      if step % 1000 == 0 or (step + 1) == FLAGS.max_steps:\n",
    "        checkpoint_path = os.path.join(FLAGS.train_dir, 'model.ckpt')\n",
    "        saver.save(sess, checkpoint_path, global_step=step)\n",
    "\n",
    "\n",
    "def main(argv=None):  # pylint: disable=unused-argument\n",
    "  cifar10.maybe_download_and_extract()\n",
    "  if gfile.Exists(FLAGS.train_dir):\n",
    "    gfile.DeleteRecursively(FLAGS.train_dir)\n",
    "  gfile.MakeDirs(FLAGS.train_dir)\n",
    "  train()\n",
    "\n",
    "\n",
    "if __name__ == '__main__':\n",
    "  tf.app.run()\n"
   ]
  },
  {
   "cell_type": "code",
   "execution_count": null,
   "metadata": {},
   "outputs": [],
   "source": [
    "# x = tf.constant([[1], [2], [3], [4]], dtype=tf.float32)\n",
    "x = tf.placeholder(dtype=tf.float32,shape = (1,None))\n",
    "\n",
    "# y_true = tf.constant([[0], [-1], [-2], [-3]], dtype=tf.float32)\n",
    "y_true = tf.placeholder(dtype=tf.float32,shape = (1,None))\n",
    "\n",
    "linear_model = tf.layers.Dense(units=1)\n",
    "\n",
    "y_pred = linear_model(X)\n",
    "loss = tf.losses.mean_squared_error(labels=y_true, predictions=y_pred)\n",
    "\n",
    "optimizer = tf.train.GradientDescentOptimizer(0.01)\n",
    "train = optimizer.minimize(loss)\n",
    "\n",
    "init = tf.global_variables_initializer()\n",
    "\n",
    "sess = tf.Session()\n",
    "sess.run(init)\n",
    "for batch_x,batch_y  in zip([[1], [2], [3], [4]],[[0], [-1], [-2], [-3]]):\n",
    "  _ , loss_value = sess.run([train, loss],feed_dict = {x:batch_x,y_true:batch_y})\n",
    "  print(loss_value)\n",
    "\n",
    "print(sess.run(y_pred))"
   ]
  }
 ],
 "metadata": {
  "kernelspec": {
   "display_name": "Python 3",
   "language": "python",
   "name": "python3"
  },
  "language_info": {
   "codemirror_mode": {
    "name": "ipython",
    "version": 3
   },
   "file_extension": ".py",
   "mimetype": "text/x-python",
   "name": "python",
   "nbconvert_exporter": "python",
   "pygments_lexer": "ipython3",
   "version": "3.6.8"
  }
 },
 "nbformat": 4,
 "nbformat_minor": 2
}
